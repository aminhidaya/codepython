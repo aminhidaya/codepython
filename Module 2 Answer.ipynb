{
 "cells": [
  {
   "cell_type": "code",
   "execution_count": null,
   "metadata": {
    "collapsed": true
   },
   "outputs": [],
   "source": [
    "if []:\n",
    "    print(l)"
   ]
  },
  {
   "cell_type": "code",
   "execution_count": null,
   "metadata": {
    "collapsed": true
   },
   "outputs": [],
   "source": [
    "if(True):\n",
    "    print(\"YAY\")"
   ]
  },
  {
   "cell_type": "code",
   "execution_count": 1,
   "metadata": {
    "collapsed": true
   },
   "outputs": [],
   "source": [
    "#if the statement is false\n",
    "if(False):\n",
    "    print(\"Noob\")"
   ]
  },
  {
   "cell_type": "code",
   "execution_count": 3,
   "metadata": {},
   "outputs": [
    {
     "name": "stdout",
     "output_type": "stream",
     "text": [
      "Hey\n"
     ]
    }
   ],
   "source": [
    "if(False):\n",
    "    print(\"YAY\")\n",
    "else:\n",
    "    print(\"Hey\")"
   ]
  },
  {
   "cell_type": "code",
   "execution_count": 4,
   "metadata": {},
   "outputs": [
    {
     "name": "stdout",
     "output_type": "stream",
     "text": [
      "OK\n"
     ]
    }
   ],
   "source": [
    "#get ok\n",
    "i = 1\n",
    "if(i > 2):\n",
    "    print(\"Good\") \n",
    "elif (i==1):\n",
    "    print(\"OK\")\n",
    "elif (i==2):\n",
    "    print(\"Chester IS AWESOME!!!\")\n",
    "else:\n",
    "    print(\"Bad\") "
   ]
  },
  {
   "cell_type": "code",
   "execution_count": 1,
   "metadata": {},
   "outputs": [
    {
     "name": "stdout",
     "output_type": "stream",
     "text": [
      "Good\n"
     ]
    }
   ],
   "source": [
    "#how to get good\n",
    "i = 3\n",
    "if(i > 2):\n",
    "    print(\"Good\") \n",
    "elif (i==1):\n",
    "    print(\"OK\")\n",
    "elif (i==2):\n",
    "    print(\"AWESOME!!!\")\n",
    "else:\n",
    "    print(\"Bad\") "
   ]
  },
  {
   "cell_type": "code",
   "execution_count": 4,
   "metadata": {},
   "outputs": [
    {
     "ename": "SyntaxError",
     "evalue": "invalid syntax (<ipython-input-4-809a1606e3dd>, line 8)",
     "output_type": "error",
     "traceback": [
      "\u001b[1;36m  File \u001b[1;32m\"<ipython-input-4-809a1606e3dd>\"\u001b[1;36m, line \u001b[1;32m8\u001b[0m\n\u001b[1;33m    else:\u001b[0m\n\u001b[1;37m       ^\u001b[0m\n\u001b[1;31mSyntaxError\u001b[0m\u001b[1;31m:\u001b[0m invalid syntax\n"
     ]
    }
   ],
   "source": [
    "#if there is two else\n",
    "i = 1\n",
    "if(i > 2):\n",
    "    print(\"Good\")\n",
    "elif (i==1):\n",
    "    print(\"OK\")\n",
    "else:\n",
    "    print(\"Chester IS AWESOME!!!\")\n",
    "else:\n",
    "    print(\"Bad\")"
   ]
  },
  {
   "cell_type": "code",
   "execution_count": null,
   "metadata": {
    "collapsed": true
   },
   "outputs": [],
   "source": [
    "#if there is more than one if\n",
    "i = 1\n",
    "if(i > 2):\n",
    "    print(\"Good\")\n",
    "if (i==1):\n",
    "    print(\"OK\")\n",
    "if (i==2):\n",
    "    print(\"Chester IS AWESOME!!!\")\n",
    "else:\n",
    "    print(\"Bad\")"
   ]
  },
  {
   "cell_type": "code",
   "execution_count": null,
   "metadata": {
    "collapsed": true
   },
   "outputs": [],
   "source": [
    "#example of logic\n",
    "print(5>1)\n",
    "print(5<1)\n",
    "print(5==1)\n",
    "print(5==5)\n",
    "print(4<=5)\n",
    "print(4>=4)\n"
   ]
  },
  {
   "cell_type": "code",
   "execution_count": 7,
   "metadata": {},
   "outputs": [
    {
     "name": "stdout",
     "output_type": "stream",
     "text": [
      "yay\n"
     ]
    }
   ],
   "source": [
    "#exercise Q1 answer\n",
    "mood='happy'\n",
    "if(mood=='happy'):\n",
    "    print(\"yay\")"
   ]
  },
  {
   "cell_type": "code",
   "execution_count": 8,
   "metadata": {},
   "outputs": [
    {
     "name": "stdout",
     "output_type": "stream",
     "text": [
      "enter your mood:hahahah\n",
      "get a life\n"
     ]
    }
   ],
   "source": [
    "#exercise Q2 answer\n",
    "mood=input('enter your mood:')\n",
    "if(mood=='happy'):\n",
    "    print(\"yay\")\n",
    "elif(mood=='sad'):\n",
    "    print(\"be happy\")\n",
    "elif(mood=='hungry'):\n",
    "    print(\"need food\")\n",
    "else:\n",
    "    print(\"get a life\")"
   ]
  },
  {
   "cell_type": "code",
   "execution_count": 9,
   "metadata": {},
   "outputs": [
    {
     "name": "stdout",
     "output_type": "stream",
     "text": [
      "True\n",
      "False\n",
      "True\n",
      "False\n",
      "True\n",
      "False\n",
      "yay\n"
     ]
    }
   ],
   "source": [
    "#logic gates\n",
    "print(True and True)\n",
    "print(True and False)\n",
    "print(True or False)\n",
    "print(False or False)\n",
    "print(not False)\n",
    "print(not True)\n",
    "i = 5\n",
    "if((i>2) and (i < 10)): \n",
    "    print(\"yay\")\n",
    "    "
   ]
  },
  {
   "cell_type": "code",
   "execution_count": 5,
   "metadata": {},
   "outputs": [
    {
     "name": "stdout",
     "output_type": "stream",
     "text": [
      "True\n"
     ]
    }
   ],
   "source": [
    "#exercise Q3 number 1 answer\n",
    "x=5\n",
    "y=10\n",
    "print(x<6 and y > 8)"
   ]
  },
  {
   "cell_type": "code",
   "execution_count": 11,
   "metadata": {},
   "outputs": [
    {
     "name": "stdout",
     "output_type": "stream",
     "text": [
      "True\n"
     ]
    }
   ],
   "source": [
    "#exercise Q3 number 6 answer\n",
    "x=5\n",
    "y=10\n",
    "print(y!=4)"
   ]
  },
  {
   "cell_type": "code",
   "execution_count": null,
   "metadata": {
    "collapsed": true
   },
   "outputs": [],
   "source": [
    "#while loop\n",
    "a = 5\n",
    "# Loop it if a is less than 5\n",
    "while (a<10):\n",
    "    print(\"Hello\",a)\n",
    "    a = a + 1\n",
    "#   a = 5 + 1\n",
    "#   after this, it will become a = 6, so when the loop runs again,\n",
    "#   a = a + 1 means a = 6 + 1, and so on."
   ]
  },
  {
   "cell_type": "code",
   "execution_count": 6,
   "metadata": {},
   "outputs": [
    {
     "name": "stdout",
     "output_type": "stream",
     "text": [
      "Hello 5\n",
      "Hello 6\n",
      "Hello 7\n",
      "Hello 8\n",
      "Hello 9\n"
     ]
    }
   ],
   "source": [
    "a = 5\n",
    "while (a<10):\n",
    "    print(\"Hello\",a)\n",
    "    a += 1"
   ]
  },
  {
   "cell_type": "code",
   "execution_count": null,
   "metadata": {
    "collapsed": true
   },
   "outputs": [],
   "source": [
    "#exercise Q4 answer\n",
    "a = 1\n",
    "while (a<=50):\n",
    "    print(\"Hello\",a)\n",
    "    a += 1"
   ]
  },
  {
   "cell_type": "code",
   "execution_count": null,
   "metadata": {
    "collapsed": true
   },
   "outputs": [],
   "source": [
    "#exercise Q5 answer\n",
    "msg=int(input(\"nak sampai mana: \"))\n",
    "a=1\n",
    "while(a <= msg):\n",
    "    print(\"hello\",a)\n",
    "    a += 1"
   ]
  },
  {
   "cell_type": "code",
   "execution_count": 12,
   "metadata": {},
   "outputs": [
    {
     "name": "stdout",
     "output_type": "stream",
     "text": [
      "a. text1.txt\n",
      "b. text2.txt\n",
      "Please choose any of the text file above:a\n",
      "12345\n"
     ]
    }
   ],
   "source": [
    "#Q8 answer\n",
    "#insert the in text file\n",
    "#aaaaaa\n",
    "#bbbbbb\n",
    "#cccccc\n",
    "#dddddd\n",
    "#PASSWORD\n",
    "#12345\n",
    "\n",
    "print(\"a. text1.txt\")\n",
    "print (\"b. text2.txt\")\n",
    "select=input(\"Please choose any of the text file above:\")\n",
    "if (select=='a'):\n",
    "    with open(\"text1.txt\") as file_iterator:\n",
    "        for line in file_iterator:\n",
    "            if \"PASSWORD\" in line:\n",
    "                print (next(file_iterator))\n",
    "\n",
    "elif (select=='b'):\n",
    "    with open(\"text2.txt\") as file_iterator:\n",
    "        for line in file_iterator:\n",
    "            if \"PASSWORD\" in line:\n",
    "                print (next(file_iterator))\n",
    "\n",
    "else:\n",
    "    print(\"error!\")"
   ]
  },
  {
   "cell_type": "code",
   "execution_count": 3,
   "metadata": {
    "collapsed": true
   },
   "outputs": [],
   "source": [
    "#Q9 answer\n",
    "f1 = open(\"newfile.txt\", \"w\")\n",
    "for x in range(1, 5):\n",
    "    for y in range(1, 5):\n",
    "        f1.writelines(\"%d x %d = %d \\t\" % (x, y, x*y))\n",
    "f1.close()"
   ]
  }
 ],
 "metadata": {
  "kernelspec": {
   "display_name": "Python 3",
   "language": "python",
   "name": "python3"
  },
  "language_info": {
   "codemirror_mode": {
    "name": "ipython",
    "version": 3
   },
   "file_extension": ".py",
   "mimetype": "text/x-python",
   "name": "python",
   "nbconvert_exporter": "python",
   "pygments_lexer": "ipython3",
   "version": "3.6.1"
  }
 },
 "nbformat": 4,
 "nbformat_minor": 2
}
