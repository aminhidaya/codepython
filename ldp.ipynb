{
 "cells": [
  {
   "cell_type": "markdown",
   "metadata": {},
   "source": [
    "# for print\n",
    "---\n",
    "1. print\n",
    "2. \"\"\n",
    "3. ()\n",
    "4. message yang nak di paparkan"
   ]
  },
  {
   "cell_type": "code",
   "execution_count": 2,
   "metadata": {},
   "outputs": [
    {
     "name": "stdout",
     "output_type": "stream",
     "text": [
      "Selamat pagi\n"
     ]
    }
   ],
   "source": [
    "print(\"Selamat pagi\") "
   ]
  },
  {
   "cell_type": "code",
   "execution_count": 6,
   "metadata": {},
   "outputs": [
    {
     "name": "stdout",
     "output_type": "stream",
     "text": [
      "1\n",
      "1.5\n",
      "2\n",
      "3\n"
     ]
    }
   ],
   "source": [
    "print(1)   #utk jenis data int\n",
    "print(1.5) #utk jenis data float/double\n",
    "print(\"2\") #utk jenis data string\n",
    "print('3') #utk jenis data char"
   ]
  },
  {
   "cell_type": "markdown",
   "metadata": {},
   "source": [
    "---\n",
    "# for variable\n",
    "---\n",
    "1. xboleh mula dgn nombor. CTH: 2m\n",
    "2. xblh ada space. CTH m k\n",
    "3. blh jd apa2 sahaja. cth: smkpj/ smkpj2\n",
    "4. xblh variable name yang sama unless nak overwrite"
   ]
  },
  {
   "cell_type": "code",
   "execution_count": 51,
   "metadata": {},
   "outputs": [
    {
     "name": "stdout",
     "output_type": "stream",
     "text": [
      "hello my name is Amin Hi nice to meet you\n",
      "1\n",
      "1.5\n",
      "2meter\n",
      "3\n",
      "1 1.5 2meter 3\n",
      "<class 'float'>\n"
     ]
    }
   ],
   "source": [
    "#jenis variable yang telah ditetapkan\n",
    "tadika=1\n",
    "sekolah=1.5\n",
    "stpm=\"2meter\"\n",
    "uni='3'\n",
    "name = \"Amin\"\n",
    "print(\"hello my name is\", name, \"Hi nice to meet you\")\n",
    "print(tadika)\n",
    "print(sekolah)\n",
    "print(stpm)\n",
    "print(uni)\n",
    "print(tadika, sekolah, stpm, uni) #print in one line\n",
    "print(type(sekolah)) #utk check jenis data"
   ]
  },
  {
   "cell_type": "code",
   "execution_count": 17,
   "metadata": {},
   "outputs": [
    {
     "name": "stdout",
     "output_type": "stream",
     "text": [
      "2\n",
      "11\n",
      "1 1\n"
     ]
    }
   ],
   "source": [
    "print(1+1)\n",
    "x=\"1\"\n",
    "y='2'\n",
    "print(y+x) #utk dua jenis data sama\n",
    "print(1,x) #utk dua jenis data berlainan\n"
   ]
  },
  {
   "cell_type": "code",
   "execution_count": 31,
   "metadata": {},
   "outputs": [
    {
     "name": "stdout",
     "output_type": "stream",
     "text": [
      "2\n"
     ]
    }
   ],
   "source": [
    "x=1\n",
    "x=2\n",
    "print(x) #if print two same variable, \n",
    "#this will be overwrite x=1"
   ]
  },
  {
   "cell_type": "code",
   "execution_count": 50,
   "metadata": {},
   "outputs": [
    {
     "name": "stdout",
     "output_type": "stream",
     "text": [
      "2017\n",
      "<class 'int'>\n"
     ]
    }
   ],
   "source": [
    "name= \"2017\" \n",
    "nama= int(name)\n",
    "print(nama)\n",
    "print(type(nama))"
   ]
  },
  {
   "cell_type": "markdown",
   "metadata": {},
   "source": [
    "---\n",
    "# for input\n",
    "---\n",
    "1. combine = variable + print\n",
    "2. variable\n",
    "3. input\n",
    "4. soalan yang nak di paparkan\n",
    "5. jenis data\n",
    "6. print variable\n",
    "7. cth: x=input(\"How are you today?: \")\n",
    "        print(x)"
   ]
  },
  {
   "cell_type": "code",
   "execution_count": 35,
   "metadata": {},
   "outputs": [
    {
     "name": "stdout",
     "output_type": "stream",
     "text": [
      "How are you today?:4\n",
      "4\n",
      "Are you okay today?: 4\n",
      "4\n",
      "how old are you? 4\n",
      "4\n",
      "Whats the answer for 15/2? 5.333333333333333\n",
      "5.333333333333333\n"
     ]
    }
   ],
   "source": [
    "normal=input(\"How are you today?:\")\n",
    "print(normal)\n",
    "#specific jenis data\n",
    "spec1=str(input(\"Are you okay today?: \"))\n",
    "print(spec1)\n",
    "spec2=int(input(\"how old are you? \"))\n",
    "print(spec2)\n",
    "spec3=float(input(\"Whats the answer for 15/2? \"))\n",
    "print(spec3)"
   ]
  },
  {
   "cell_type": "code",
   "execution_count": 42,
   "metadata": {},
   "outputs": [
    {
     "name": "stdout",
     "output_type": "stream",
     "text": [
      "How are you today?:i am fine\n"
     ]
    }
   ],
   "source": [
    "normal=input(\"How are you today?:\")"
   ]
  },
  {
   "cell_type": "code",
   "execution_count": 43,
   "metadata": {},
   "outputs": [
    {
     "name": "stdout",
     "output_type": "stream",
     "text": [
      "How are you today?:i am fine\n",
      "i am fine\n"
     ]
    }
   ],
   "source": [
    "normal=input(\"How are you today?:\")\n",
    "print(normal)"
   ]
  },
  {
   "cell_type": "markdown",
   "metadata": {},
   "source": [
    "---\n",
    "# Struktur kawalan pilihan\n",
    "---\n",
    "1. ada 3 jenis:\n",
    "          1.1- if\n",
    "          1.2- if else\n",
    "          1.3- if elif else     #elif shortform for else if (blh ada banyak)\n",
    "    \n",
    "2. struktur kawalan blh gabung variable, print, and input\n",
    "3. utk struktur kawalan pilihan \n",
    "4. if tidak perlukan else selalu\n",
    "5. else perlukan if \n",
    "6. setiap kali nampak if perlukan syarat cth if (syarat):\n",
    "7. akan print jika syarat if adalah benar"
   ]
  },
  {
   "cell_type": "markdown",
   "metadata": {},
   "source": [
    "# Logical Operation\n",
    "1. Greater than : > 9\n",
    "2. Less than: < 9 \n",
    "3. Equalvalent : == 9 \n",
    "4. More than or equal: >= 9\n",
    "5. Less than or equal: <= 9\n",
    "6. Not equalvalent: != 9\n",
    "7. = is for assign not same as == (sama dengan)"
   ]
  },
  {
   "cell_type": "code",
   "execution_count": 54,
   "metadata": {},
   "outputs": [],
   "source": [
    "x=2\n",
    "if(x==1):\n",
    "    print(\"True\")"
   ]
  },
  {
   "cell_type": "code",
   "execution_count": 56,
   "metadata": {},
   "outputs": [
    {
     "name": "stdout",
     "output_type": "stream",
     "text": [
      "False\n"
     ]
    }
   ],
   "source": [
    "x=3\n",
    "if(x==1):\n",
    "    print(\"True\")\n",
    "else:\n",
    "    print(\"False\")"
   ]
  },
  {
   "cell_type": "code",
   "execution_count": 58,
   "metadata": {},
   "outputs": [
    {
     "name": "stdout",
     "output_type": "stream",
     "text": [
      "x is 1\n"
     ]
    }
   ],
   "source": [
    "x=1\n",
    "y=2\n",
    "if(x>1):\n",
    "    print(\"x bigger than 1\")\n",
    "elif (x == 1):\n",
    "    print(\"x is 1\")\n",
    "elif (y==2):\n",
    "    print(\"y is 2\")\n",
    "else:\n",
    "    print(\" Value is not 1 or 2\")\n"
   ]
  },
  {
   "cell_type": "code",
   "execution_count": 62,
   "metadata": {},
   "outputs": [
    {
     "name": "stdout",
     "output_type": "stream",
     "text": [
      "x bigger than 1\n",
      "x is 1\n",
      "y is 2\n"
     ]
    }
   ],
   "source": [
    "x=1\n",
    "y=2\n",
    "if(x>=1):\n",
    "    print(\"x bigger than 1\")\n",
    "if (x == 1):\n",
    "    print(\"x is 1\")\n",
    "if (y==2):\n",
    "    print(\"y is 2\")\n",
    "else:\n",
    "    print(\" Value is not 1 or 2\")"
   ]
  },
  {
   "cell_type": "code",
   "execution_count": 63,
   "metadata": {},
   "outputs": [
    {
     "name": "stdout",
     "output_type": "stream",
     "text": [
      "Masukkan number: 300\n",
      "correct\n"
     ]
    }
   ],
   "source": [
    "#excercise\n",
    "num1= input(\"Masukkan number: \")\n",
    "num1=int(num1)\n",
    "if(num1==300):\n",
    "    print(\"correct\")"
   ]
  },
  {
   "cell_type": "code",
   "execution_count": 64,
   "metadata": {},
   "outputs": [
    {
     "name": "stdout",
     "output_type": "stream",
     "text": [
      "Masukkan number: 300\n",
      "correct\n"
     ]
    }
   ],
   "source": [
    "#excercise\n",
    "num1= input(\"Masukkan number: \")\n",
    "if(num1==\"300\"):\n",
    "    print(\"correct\")"
   ]
  },
  {
   "cell_type": "code",
   "execution_count": 66,
   "metadata": {},
   "outputs": [
    {
     "name": "stdout",
     "output_type": "stream",
     "text": [
      "Masukkan number: 78\n"
     ]
    }
   ],
   "source": [
    "#excercise\n",
    "num1= int(input(\"Masukkan number: \"))\n",
    "if(num1==300):\n",
    "    print(\"correct\")"
   ]
  },
  {
   "cell_type": "code",
   "execution_count": 67,
   "metadata": {},
   "outputs": [
    {
     "name": "stdout",
     "output_type": "stream",
     "text": [
      "correct\n"
     ]
    }
   ],
   "source": [
    "num1= 200\n",
    "if(num1==200):\n",
    "    print(\"correct\")"
   ]
  },
  {
   "cell_type": "code",
   "execution_count": 70,
   "metadata": {},
   "outputs": [
    {
     "name": "stdout",
     "output_type": "stream",
     "text": [
      "masukkan number: 10\n",
      "Hello\n",
      "Hello\n",
      "Hello\n",
      "Hello\n",
      "Hello\n",
      "Hello\n",
      "Hello\n",
      "Hello\n",
      "Hello\n",
      "Hello\n"
     ]
    }
   ],
   "source": [
    "a=1\n",
    "x=int(input(\"masukkan number: \"))\n",
    "while (a<=x):\n",
    "    print(\"Hello\")\n",
    "    a = a + 1 #a+=1\n"
   ]
  },
  {
   "cell_type": "code",
   "execution_count": null,
   "metadata": {},
   "outputs": [],
   "source": []
  }
 ],
 "metadata": {
  "kernelspec": {
   "display_name": "Python 3",
   "language": "python",
   "name": "python3"
  },
  "language_info": {
   "codemirror_mode": {
    "name": "ipython",
    "version": 3
   },
   "file_extension": ".py",
   "mimetype": "text/x-python",
   "name": "python",
   "nbconvert_exporter": "python",
   "pygments_lexer": "ipython3",
   "version": "3.6.5"
  }
 },
 "nbformat": 4,
 "nbformat_minor": 2
}
